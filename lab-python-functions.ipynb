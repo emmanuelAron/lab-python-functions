{
 "cells": [
  {
   "cell_type": "markdown",
   "id": "25d7736c-ba17-4aff-b6bb-66eba20fbf4e",
   "metadata": {},
   "source": [
    "# Lab | Functions"
   ]
  },
  {
   "cell_type": "markdown",
   "id": "0c581062-8967-4d93-b06e-62833222f930",
   "metadata": {
    "tags": []
   },
   "source": [
    "## Exercise: Managing Customer Orders with Functions\n",
    "\n",
    "In the previous exercise, you improved the code for managing customer orders by using loops and flow control. Now, let's take it a step further and refactor the code by introducing functions.\n",
    "\n",
    "Follow the steps below to complete the exercise:\n",
    "\n",
    "1. Define a function named `initialize_inventory` that takes `products` as a parameter. Inside the function, implement the code for initializing the inventory dictionary using a loop and user input.\n",
    "\n",
    "2. Define a function named `get_customer_orders` that takes no parameters. Inside the function, implement the code for prompting the user to enter the product names using a loop. The function should return the `customer_orders` set.\n",
    "\n",
    "3. Define a function named `update_inventory` that takes `customer_orders` and `inventory` as parameters. Inside the function, implement the code for updating the inventory dictionary based on the customer orders.\n",
    "\n",
    "4. Define a function named `calculate_order_statistics` that takes `customer_orders` and `products` as parameters. Inside the function, implement the code for calculating the order statistics (total products ordered, and percentage of unique products ordered). The function should return these values.\n",
    "\n",
    "5. Define a function named `print_order_statistics` that takes `order_statistics` as a parameter. Inside the function, implement the code for printing the order statistics.\n",
    "\n",
    "6. Define a function named `print_updated_inventory` that takes `inventory` as a parameter. Inside the function, implement the code for printing the updated inventory.\n",
    "\n",
    "7. Call the functions in the appropriate sequence to execute the program and manage customer orders.\n",
    "\n",
    "Hints for functions:\n",
    "\n",
    "- Consider the input parameters required for each function and their return values.\n",
    "- Utilize function parameters and return values to transfer data between functions.\n",
    "- Test your functions individually to ensure they work correctly.\n",
    "\n",
    "\n"
   ]
  },
  {
   "cell_type": "code",
   "execution_count": 22,
   "id": "3611e18a-5d53-48cb-a260-e70b9935fb5f",
   "metadata": {},
   "outputs": [
    {
     "name": "stdin",
     "output_type": "stream",
     "text": [
      "What do you want to order? mug?...  mug\n",
      "Do you want another product? Answer yes or no  yes\n",
      "What do you want to order? mug?...  hat\n",
      "Do you want another product? Answer yes or no  no\n"
     ]
    },
    {
     "data": {
      "text/plain": [
       "{'hat', 'mug'}"
      ]
     },
     "execution_count": 22,
     "metadata": {},
     "output_type": "execute_result"
    }
   ],
   "source": [
    "\n",
    "#1\n",
    "#The inventory (outside the functions?)\n",
    "inventory = {}\n",
    "\n",
    "def initialize_inventory(products):\n",
    "    for p in products:\n",
    "        qtity = int(input(f\"how many {p} do you want?\"))\n",
    "        inventory[p] = qtity\n",
    "\n",
    "#Test\n",
    "products = [\"t-shirt\", \"mug\", \"hat\", \"book\", \"keychain\"]\n",
    "#initialize_inventory(products)\n",
    "\n",
    "\n",
    "#2\n",
    "customer_orders = set()\n",
    "def get_customer_orders():  \n",
    "    y = \"\"\n",
    "    i = 0\n",
    "    while y != \"no\":\n",
    "        x = input(\"What do you want to order? mug?... \")\n",
    "        #customer_orders.add(x)\n",
    "        if x in products:\n",
    "          customer_orders.add(x)\n",
    "          y = input(\"Do you want another product? Answer yes or no \")\n",
    "          i = i+1\n",
    "    return customer_orders\n",
    "#Test2\n",
    "#get_customer_orders()\n",
    "\n",
    "#3\n",
    "def update_inventory(customer_orders , inventory):\n",
    "    for product in inventory:\n",
    "        if product in customer_orders:\n",
    "            inventory[product] = inventory[product] -1\n",
    "#Test3\n",
    "#update_inventory(get_customer_orders(),inventory)\n",
    "\n",
    "#4 Return the t-uple : (total products ordered, and percentage of unique products ordered)\n",
    "def calculate_order_statistics(customer_orders, products):\n",
    "    total_products = len(customer_orders)\n",
    "    order_status = total_customer_orders/total_products * 100\n",
    "    return (total_products, order_status)\n",
    "\n",
    "#5\n",
    "def print_order_statistics(order_statistics):\n",
    "    customer_orders = order_statistics[0]\n",
    "    products = order_statistics[1]\n",
    "    total_products = len(products)\n",
    "    print(f\"Total Products Ordered: {total_products} \")\n",
    "    print(f\"Total Products Ordered: {total_products} \")\n",
    "\n",
    "#6\n",
    "def print_updated_inventory(inventory):\n",
    "    print(f\"decreased inventory: {inventory} \")\n",
    "\n",
    "#7\n",
    "initialize_inventory(products)\n",
    "cu = get_customer_orders()\n",
    "update_inventory(get_customer_orders(),inventory)\n",
    "calculate_order_statistics(cu, products)\n"
   ]
  },
  {
   "cell_type": "code",
   "execution_count": 12,
   "id": "923bc420-3633-4806-93c9-9d379ec9af17",
   "metadata": {},
   "outputs": [
    {
     "data": {
      "text/plain": [
       "{'t-shirt': 1, 'mug': 2, 'hat': 1, 'book': 2, 'keychain': 1}"
      ]
     },
     "execution_count": 12,
     "metadata": {},
     "output_type": "execute_result"
    }
   ],
   "source": [
    "inventory"
   ]
  },
  {
   "cell_type": "code",
   "execution_count": 16,
   "id": "168ca169-7be1-4eea-b7b6-19f01dc469eb",
   "metadata": {},
   "outputs": [
    {
     "data": {
      "text/plain": [
       "{'t-shirt': 1, 'mug': 2, 'hat': 1, 'book': 2, 'keychain': 1}"
      ]
     },
     "execution_count": 16,
     "metadata": {},
     "output_type": "execute_result"
    }
   ],
   "source": [
    "inventory"
   ]
  },
  {
   "cell_type": "code",
   "execution_count": 24,
   "id": "c76a3e8e-c5c3-4767-ba2a-29498b6d8cac",
   "metadata": {},
   "outputs": [
    {
     "data": {
      "text/plain": [
       "{'hat', 'mug'}"
      ]
     },
     "execution_count": 24,
     "metadata": {},
     "output_type": "execute_result"
    }
   ],
   "source": [
    "customer_orders"
   ]
  },
  {
   "cell_type": "code",
   "execution_count": 26,
   "id": "4172b0c3-ab86-4042-8d21-573398a2c465",
   "metadata": {},
   "outputs": [
    {
     "name": "stdin",
     "output_type": "stream",
     "text": [
      "What do you want to order? mug?...  mug\n",
      "Do you want another product? Answer yes or no  no\n"
     ]
    },
    {
     "name": "stdout",
     "output_type": "stream",
     "text": [
      "{'hat', 'mug'}\n"
     ]
    }
   ],
   "source": [
    "print(get_customer_orders())"
   ]
  },
  {
   "cell_type": "code",
   "execution_count": 28,
   "id": "e0a7d7af-2308-4190-962e-d932daee359d",
   "metadata": {},
   "outputs": [],
   "source": [
    "def update_inventory(customer_orders , inventory):\n",
    "    for product in inventory:\n",
    "        if product in customer_orders:\n",
    "            inventory[product] = inventory[product] -1"
   ]
  },
  {
   "cell_type": "code",
   "execution_count": 30,
   "id": "66d6070c-c6c5-45aa-94c5-482caad04cec",
   "metadata": {},
   "outputs": [
    {
     "name": "stdin",
     "output_type": "stream",
     "text": [
      "What do you want to order? mug?...  mug\n",
      "Do you want another product? Answer yes or no  yes\n",
      "What do you want to order? mug?...  hat\n",
      "Do you want another product? Answer yes or no  no\n"
     ]
    }
   ],
   "source": [
    "update_inventory(get_customer_orders(),inventory)"
   ]
  },
  {
   "cell_type": "code",
   "execution_count": 32,
   "id": "145db62a-086e-4822-bbb1-19e6f84ef08d",
   "metadata": {},
   "outputs": [
    {
     "data": {
      "text/plain": [
       "{'t-shirt': 1, 'mug': 1, 'hat': 0, 'book': 2, 'keychain': 1}"
      ]
     },
     "execution_count": 32,
     "metadata": {},
     "output_type": "execute_result"
    }
   ],
   "source": [
    "inventory"
   ]
  },
  {
   "cell_type": "code",
   "execution_count": 34,
   "id": "d01f7f07-2b21-4c34-b698-1991fb4c4de4",
   "metadata": {},
   "outputs": [
    {
     "data": {
      "text/plain": [
       "{'hat', 'mug'}"
      ]
     },
     "execution_count": 34,
     "metadata": {},
     "output_type": "execute_result"
    }
   ],
   "source": [
    "customer_orders\n",
    "    "
   ]
  },
  {
   "cell_type": "code",
   "execution_count": null,
   "id": "f0ab648d-f96c-49d5-8589-7e6b7d557324",
   "metadata": {},
   "outputs": [],
   "source": []
  }
 ],
 "metadata": {
  "kernelspec": {
   "display_name": "Python 3 (ipykernel)",
   "language": "python",
   "name": "python3"
  },
  "language_info": {
   "codemirror_mode": {
    "name": "ipython",
    "version": 3
   },
   "file_extension": ".py",
   "mimetype": "text/x-python",
   "name": "python",
   "nbconvert_exporter": "python",
   "pygments_lexer": "ipython3",
   "version": "3.11.5"
  }
 },
 "nbformat": 4,
 "nbformat_minor": 5
}
